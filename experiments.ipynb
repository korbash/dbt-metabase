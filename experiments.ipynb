{
 "cells": [
  {
   "cell_type": "code",
   "execution_count": 1,
   "metadata": {},
   "outputs": [
    {
     "name": "stderr",
     "output_type": "stream",
     "text": [
      "WARNING:root:No _version.py file\n"
     ]
    }
   ],
   "source": [
    "import sys\n",
    "if '/app' not in sys.path:\n",
    "    sys.path.append('/app')\n",
    "from dbtmetabase.core import DbtMetabase\n",
    "import logging\n",
    "\n",
    "for handler in logging.root.handlers[:]:\n",
    "    logging.root.removeHandler(handler)\n",
    "\n",
    "# Configure logging to display logs in the notebook's output\n",
    "logging.basicConfig(level=logging.DEBUG,\n",
    "                    format='%(asctime)s - %(name)s - %(levelname)s - %(message)s',\n",
    "                    handlers=[logging.StreamHandler()])"
   ]
  },
  {
   "cell_type": "code",
   "execution_count": 6,
   "metadata": {},
   "outputs": [],
   "source": [
    "mb_token = 'mb_3yMMEnpGt3Q2CW12uraBwA4f8eZOxqQUOnugKqQBNMY='"
   ]
  },
  {
   "cell_type": "code",
   "execution_count": 7,
   "metadata": {},
   "outputs": [
    {
     "name": "stderr",
     "output_type": "stream",
     "text": [
      "2024-06-11 17:00:00,476 - dbtmetabase.metabase - INFO - Metabase session established\n"
     ]
    }
   ],
   "source": [
    "dm = DbtMetabase(\n",
    "    metabase_url=\"http://metabase:3000\",\n",
    "    metabase_api_key=mb_token,\n",
    "    target_dir=\"app/sandbox/target\",\n",
    ")"
   ]
  },
  {
   "cell_type": "code",
   "execution_count": 9,
   "metadata": {},
   "outputs": [
    {
     "name": "stderr",
     "output_type": "stream",
     "text": [
      "2024-06-11 17:00:09,821 - urllib3.connectionpool - DEBUG - http://metabase:3000 \"GET /api/user/current HTTP/1.1\" 200 None\n",
      "2024-06-11 17:00:09,934 - urllib3.connectionpool - DEBUG - http://metabase:3000 \"GET /api/search?models=collection&archived=false HTTP/1.1\" 200 None\n",
      "2024-06-11 17:00:09,936 - dbtmetabase._cards - DEBUG - collection dbt_cards exist\n",
      "2024-06-11 17:00:10,034 - urllib3.connectionpool - DEBUG - http://metabase:3000 \"GET /api/search?models=collection&archived=false HTTP/1.1\" 200 None\n",
      "2024-06-11 17:00:10,035 - dbtmetabase._cards - DEBUG - collection test_dash4 exist\n",
      "2024-06-11 17:00:10,148 - urllib3.connectionpool - DEBUG - http://metabase:3000 \"GET /api/table HTTP/1.1\" 200 None\n",
      "2024-06-11 17:00:10,247 - urllib3.connectionpool - DEBUG - http://metabase:3000 \"GET /api/table/11/query_metadata HTTP/1.1\" 200 None\n",
      "2024-06-11 17:00:10,347 - urllib3.connectionpool - DEBUG - http://metabase:3000 \"GET /api/table/11/query_metadata HTTP/1.1\" 200 None\n",
      "2024-06-11 17:00:10,451 - urllib3.connectionpool - DEBUG - http://metabase:3000 \"GET /api/table/11/query_metadata HTTP/1.1\" 200 None\n",
      "2024-06-11 17:00:10,552 - urllib3.connectionpool - DEBUG - http://metabase:3000 \"GET /api/table/14/query_metadata HTTP/1.1\" 200 None\n",
      "2024-06-11 17:00:10,650 - urllib3.connectionpool - DEBUG - http://metabase:3000 \"GET /api/table/14/query_metadata HTTP/1.1\" 200 None\n",
      "2024-06-11 17:00:10,763 - urllib3.connectionpool - DEBUG - http://metabase:3000 \"GET /api/search?models=card&archived=false&created_by=2 HTTP/1.1\" 200 None\n",
      "2024-06-11 17:00:10,765 - dbtmetabase._cards - DEBUG - creating new card name raw_orders\n",
      "2024-06-11 17:00:10,914 - urllib3.connectionpool - DEBUG - http://metabase:3000 \"POST /api/card HTTP/1.1\" 200 None\n",
      "2024-06-11 17:00:11,036 - urllib3.connectionpool - DEBUG - http://metabase:3000 \"GET /api/search?models=card&archived=false&created_by=2 HTTP/1.1\" 200 None\n",
      "2024-06-11 17:00:11,140 - urllib3.connectionpool - DEBUG - http://metabase:3000 \"GET /api/search?models=card&archived=false&created_by=2 HTTP/1.1\" 200 None\n",
      "2024-06-11 17:00:11,141 - dbtmetabase._cards - DEBUG - creating new card name total_orders\n",
      "2024-06-11 17:00:11,276 - urllib3.connectionpool - DEBUG - http://metabase:3000 \"POST /api/card HTTP/1.1\" 200 None\n",
      "2024-06-11 17:00:11,381 - urllib3.connectionpool - DEBUG - http://metabase:3000 \"GET /api/search?models=card&archived=false&created_by=2 HTTP/1.1\" 200 None\n",
      "2024-06-11 17:00:11,480 - urllib3.connectionpool - DEBUG - http://metabase:3000 \"GET /api/search?models=card&archived=false&created_by=2 HTTP/1.1\" 200 None\n",
      "2024-06-11 17:00:11,482 - dbtmetabase._cards - DEBUG - creating new card name orders_by_days\n",
      "2024-06-11 17:00:11,613 - urllib3.connectionpool - DEBUG - http://metabase:3000 \"POST /api/card HTTP/1.1\" 200 None\n",
      "2024-06-11 17:00:11,725 - urllib3.connectionpool - DEBUG - http://metabase:3000 \"GET /api/search?models=card&archived=false&created_by=2 HTTP/1.1\" 200 None\n",
      "2024-06-11 17:00:11,817 - urllib3.connectionpool - DEBUG - http://metabase:3000 \"GET /api/search?models=dashboard&archived=false&created_by=2 HTTP/1.1\" 200 None\n",
      "2024-06-11 17:00:11,952 - urllib3.connectionpool - DEBUG - http://metabase:3000 \"GET /api/dashboard/1 HTTP/1.1\" 200 None\n",
      "2024-06-11 17:00:11,954 - dbtmetabase._cards - DEBUG - exist_rectangels: {} for tab 0 (summery)\n",
      "2024-06-11 17:00:11,955 - dbtmetabase._cards - DEBUG - modified_rectan: {} for tab 0 (summery)\n",
      "2024-06-11 17:00:11,955 - dbtmetabase._cards - DEBUG - new_rectangels: {5: {'size_x': 12, 'size_y': 6, 'row': 0, 'col': 0}, 6: {'size_x': 12, 'size_y': 6, 'row': 0, 'col': 12}} for tab 0 (summery)\n",
      "2024-06-11 17:00:11,956 - dbtmetabase._cards - DEBUG - exist_rectangels: {} for tab 1 (row)\n",
      "2024-06-11 17:00:11,956 - dbtmetabase._cards - DEBUG - modified_rectan: {} for tab 1 (row)\n",
      "2024-06-11 17:00:11,956 - dbtmetabase._cards - DEBUG - new_rectangels: {4: {'size_x': 12, 'size_y': 6, 'row': 0, 'col': 0}} for tab 1 (row)\n",
      "2024-06-11 17:00:11,957 - dbtmetabase._cards - DEBUG - updating dash 1 name test_dash4\n",
      "2024-06-11 17:00:11,958 - dbtmetabase._cards - DEBUG - {'dashcards': [{'id': 0, 'card_id': 5, 'dashboard_tab_id': 0, 'row': 0, 'col': 0, 'size_x': 12, 'size_y': 6, 'parameter_mappings': [{'parameter_id': '660bba5d', 'card_id': 5, 'target': ['dimension', ['template-tag', 'order_date']]}]}, {'id': 1, 'card_id': 6, 'dashboard_tab_id': 0, 'row': 0, 'col': 12, 'size_x': 12, 'size_y': 6, 'parameter_mappings': [{'parameter_id': '6aaed5c2', 'card_id': 6, 'target': ['dimension', ['template-tag', 'amount']]}, {'parameter_id': '660bba5d', 'card_id': 6, 'target': ['dimension', ['template-tag', 'order_date']]}]}, {'id': 2, 'card_id': 4, 'dashboard_tab_id': 1, 'row': 0, 'col': 0, 'size_x': 12, 'size_y': 6, 'parameter_mappings': [{'parameter_id': 'f5b221b2', 'card_id': 4, 'target': ['dimension', ['template-tag', 'reg_date']]}, {'parameter_id': '660bba5d', 'card_id': 4, 'target': ['dimension', ['template-tag', 'order_date']]}, {'parameter_id': '3cc32a0e', 'card_id': 4, 'target': ['dimension', ['template-tag', 'status']]}, {'parameter_id': '6aaed5c2', 'card_id': 4, 'target': ['dimension', ['template-tag', 'amount']]}, {'parameter_id': '1f4adfe9', 'card_id': 4, 'target': ['dimension', ['template-tag', 'ltv']]}]}], 'parameters': [{'name': 'Order Date', 'slug': 'order_date', 'id': '660bba5d', 'type': 'date/all-options', 'sectionId': 'date', 'default': 'past7days'}, {'name': 'Status', 'slug': 'status', 'id': '3cc32a0e', 'type': 'string/=', 'sectionId': 'string', 'default': None}, {'name': 'Amount', 'slug': 'amount', 'id': '6aaed5c2', 'type': 'number/between', 'sectionId': 'number', 'default': None}, {'name': 'Reg Date', 'slug': 'reg_date', 'id': 'f5b221b2', 'type': 'date/all-options', 'sectionId': 'date', 'default': None}, {'name': 'Ltv', 'slug': 'ltv', 'id': '1f4adfe9', 'type': 'number/between', 'sectionId': 'number', 'default': None}], 'name': 'test_dash4', 'description': 'haha', 'archived': False, 'can_write': True, 'tabs': [{'id': 0, 'name': 'summery'}, {'id': 1, 'name': 'row'}]}\n",
      "2024-06-11 17:00:12,262 - urllib3.connectionpool - DEBUG - http://metabase:3000 \"PUT /api/dashboard/1 HTTP/1.1\" 200 None\n"
     ]
    }
   ],
   "source": [
    "dm.update_dashbords(models_prefix='metabase_')"
   ]
  }
 ],
 "metadata": {
  "kernelspec": {
   "display_name": ".venv",
   "language": "python",
   "name": "python3"
  },
  "language_info": {
   "codemirror_mode": {
    "name": "ipython",
    "version": 3
   },
   "file_extension": ".py",
   "mimetype": "text/x-python",
   "name": "python",
   "nbconvert_exporter": "python",
   "pygments_lexer": "ipython3",
   "version": "3.12.3"
  }
 },
 "nbformat": 4,
 "nbformat_minor": 2
}
